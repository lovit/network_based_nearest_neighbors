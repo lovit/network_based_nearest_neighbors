{
 "cells": [
  {
   "cell_type": "code",
   "execution_count": 5,
   "metadata": {},
   "outputs": [
    {
     "data": {
      "text/plain": [
       "(100000, 20)"
      ]
     },
     "execution_count": 5,
     "metadata": {},
     "output_type": "execute_result"
    }
   ],
   "source": [
    "import sys\n",
    "sys.path.append('../')\n",
    "\n",
    "import numpy as np\n",
    "from network_based_nearest_neighbors import NetworkBasedNeighbors\n",
    "\n",
    "x = np.random.random_sample((100000, 20))\n",
    "x.shape"
   ]
  },
  {
   "cell_type": "code",
   "execution_count": 6,
   "metadata": {},
   "outputs": [
    {
     "name": "stdout",
     "output_type": "stream",
     "text": [
      "Indexing ...\n",
      "batch 50 / 50 done. computation time = 1370.713026 sec.\n",
      "Indexing was done\n"
     ]
    }
   ],
   "source": [
    "index = NetworkBasedNeighbors(x, batch_size=2000)"
   ]
  },
  {
   "cell_type": "code",
   "execution_count": 7,
   "metadata": {
    "scrolled": true
   },
   "outputs": [
    {
     "data": {
      "text/plain": [
       "(array([0.89704164, 0.90799825, 0.95204415, 0.96660691, 0.98256159,\n",
       "        0.98437985, 0.98789984, 1.008208  , 1.02257042, 1.0312447 ]),\n",
       " array([  920, 56930,  9144, 65824, 53761, 29459,  6966, 86497, 90587,\n",
       "        62266]),\n",
       " [(0, 1.4131814644575411, 0.4652330969420768),\n",
       "  (1, 1.2325496342327267, 0.18063183022481444),\n",
       "  (2, 1.1580276647577572, 0.07452196947496947),\n",
       "  (3, 1.107163723830072, 0.0508639409276852),\n",
       "  (4, 1.0808608063404017, 0.026302917489670286),\n",
       "  (5, 1.058387328319242, 0.022473478021159732),\n",
       "  (6, 1.0547612125727648, 0.0036261157464771987),\n",
       "  (7, 1.0542355556638057, 0.0005256569089591157),\n",
       "  (8, 1.0510823760481791, 0.0031531796156265557),\n",
       "  (9, 1.0510823760481791, 0.0)],\n",
       " 0.0029201507568359375)"
      ]
     },
     "execution_count": 7,
     "metadata": {},
     "output_type": "execute_result"
    }
   ],
   "source": [
    "query = x[0].reshape(1,-1)\n",
    "k = 10\n",
    "index._search_neighbors_dev(query, k=k)"
   ]
  },
  {
   "cell_type": "code",
   "execution_count": 8,
   "metadata": {},
   "outputs": [
    {
     "data": {
      "text/plain": [
       "(array([0.        , 0.77322308, 0.82760977, 0.82965853, 0.84291023,\n",
       "        0.87394596, 0.89704164, 0.91032157, 0.95204415, 0.96660691]),\n",
       " array([    0, 75238, 80922, 60083, 90924, 56380,   920, 42725,  9144,\n",
       "        65824]))"
      ]
     },
     "execution_count": 8,
     "metadata": {},
     "output_type": "execute_result"
    }
   ],
   "source": [
    "index.search_neighbors(query, k=k)"
   ]
  },
  {
   "cell_type": "code",
   "execution_count": 9,
   "metadata": {},
   "outputs": [
    {
     "name": "stdout",
     "output_type": "stream",
     "text": [
      "time = 0.027378\n",
      "dist avg = 0.774081\n",
      "dist avg (wo self) = 0.866401\n"
     ]
    }
   ],
   "source": [
    "from sklearn.metrics import pairwise_distances\n",
    "import time\n",
    "k = 10\n",
    "t = time.time()\n",
    "dist = pairwise_distances(query, x).reshape(-1)\n",
    "idxs = dist.argsort()[:k]\n",
    "dist = dist[idxs]\n",
    "t = time.time() - t\n",
    "dist_avg = dist.sum() / dist.shape[0]\n",
    "\n",
    "dist = pairwise_distances(query, x).reshape(-1)\n",
    "idxs = dist.argsort()[1:k+1]\n",
    "dist = dist[idxs]\n",
    "dist_avg_except_self = dist.sum() / dist.shape[0]\n",
    "\n",
    "print('time = {:f}\\ndist avg = {:f}\\ndist avg (wo self) = {:f}'.format(\n",
    "    t, dist_avg, dist_avg_except_self))"
   ]
  },
  {
   "cell_type": "code",
   "execution_count": 13,
   "metadata": {
    "collapsed": true
   },
   "outputs": [],
   "source": [
    "n_tests = 2000\n",
    "\n",
    "step_counter = []\n",
    "time_counter = []\n",
    "\n",
    "for i in range(n_tests):\n",
    "    query = x[i].reshape(1,-1)\n",
    "    _, _, infos, time = index._search_neighbors_dev(query, k=k, max_steps=20)\n",
    "    step_counter.append(len(infos))\n",
    "    time_counter.append(time)"
   ]
  },
  {
   "cell_type": "code",
   "execution_count": 14,
   "metadata": {},
   "outputs": [
    {
     "data": {
      "text/plain": [
       "Counter({6: 35,\n",
       "         7: 157,\n",
       "         8: 380,\n",
       "         9: 443,\n",
       "         10: 369,\n",
       "         11: 267,\n",
       "         12: 154,\n",
       "         13: 98,\n",
       "         14: 36,\n",
       "         15: 28,\n",
       "         16: 16,\n",
       "         17: 4,\n",
       "         18: 8,\n",
       "         19: 3,\n",
       "         20: 2})"
      ]
     },
     "execution_count": 14,
     "metadata": {},
     "output_type": "execute_result"
    }
   ],
   "source": [
    "from collections import Counter\n",
    "\n",
    "Counter(step_counter)"
   ]
  },
  {
   "cell_type": "code",
   "execution_count": 17,
   "metadata": {},
   "outputs": [
    {
     "name": "stdout",
     "output_type": "stream",
     "text": [
      "| 0.001015 ~ 0.001292 | 7.75 % | \n",
      "| 0.001292 ~ 0.001569 | 34.45 % | \n",
      "| 0.001569 ~ 0.001846 | 23.30 % | \n",
      "| 0.001846 ~ 0.002122 | 17.65 % | \n",
      "| 0.002122 ~ 0.002399 | 9.90 % | \n",
      "| 0.002399 ~ 0.002676 | 3.05 % | \n",
      "| 0.002676 ~ 0.002953 | 1.65 % | \n",
      "| 0.002953 ~ 0.003230 | 0.70 % | \n",
      "| 0.003230 ~ 0.003506 | 0.60 % | \n",
      "| 0.003506 ~ 0.003783 | 0.35 % | \n",
      "| 0.003783 ~ 0.004060 | 0.10 % | \n",
      "| 0.004060 ~ 0.004337 | 0.20 % | \n",
      "| 0.004337 ~ 0.004614 | 0.05 % | \n",
      "| 0.004614 ~ 0.004890 | 0.05 % | \n",
      "| 0.004890 ~ 0.005167 | 0.10 % | \n",
      "| 0.005167 ~ 0.005444 | 0.00 % | \n",
      "| 0.005444 ~ 0.005721 | 0.00 % | \n",
      "| 0.005721 ~ 0.005998 | 0.00 % | \n",
      "| 0.005998 ~ 0.006274 | 0.05 % | \n",
      "| 0.006274 ~ 0.006551 | 0.05 % | \n"
     ]
    }
   ],
   "source": [
    "size, bins = np.histogram(time_counter, bins=20)\n",
    "\n",
    "for b, e, s in zip(bins, bins[1:], size):\n",
    "    print('| {:f} ~ {:f} | {} % | '.format(b, e, '%.2f'%(100*s/2000)))"
   ]
  },
  {
   "cell_type": "code",
   "execution_count": null,
   "metadata": {
    "collapsed": true
   },
   "outputs": [],
   "source": []
  }
 ],
 "metadata": {
  "kernelspec": {
   "display_name": "Python 3",
   "language": "python",
   "name": "python3"
  },
  "language_info": {
   "codemirror_mode": {
    "name": "ipython",
    "version": 3
   },
   "file_extension": ".py",
   "mimetype": "text/x-python",
   "name": "python",
   "nbconvert_exporter": "python",
   "pygments_lexer": "ipython3",
   "version": "3.6.2"
  }
 },
 "nbformat": 4,
 "nbformat_minor": 2
}
